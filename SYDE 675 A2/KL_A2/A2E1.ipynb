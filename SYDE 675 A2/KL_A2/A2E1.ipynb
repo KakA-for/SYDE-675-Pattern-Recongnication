{
 "cells": [
  {
   "cell_type": "code",
   "execution_count": 1,
   "id": "31f0ee5f",
   "metadata": {},
   "outputs": [],
   "source": [
    "import numpy as np\n",
    "import csv\n",
    "import matplotlib.pyplot as plt\n",
    "from sklearn.decomposition import PCA\n",
    "import tensorflow.keras.datasets.mnist as mnist"
   ]
  },
  {
   "cell_type": "code",
   "execution_count": 2,
   "id": "ed4bb254",
   "metadata": {},
   "outputs": [],
   "source": [
    "(xtrain_raw,ytrain_raw),(xtest_raw,ytest_raw) = mnist.load_data()\n",
    "\n",
    "training_index_3 = ytrain_raw ==3\n",
    "training_index_4 = ytrain_raw ==4\n",
    "training_index = training_index_3 | training_index_4\n",
    "\n",
    "test_index_3 = ytest_raw ==3\n",
    "test_index_4 = ytest_raw ==4\n",
    "test_index = test_index_3 | test_index_4\n",
    "\n",
    "xtrain = xtrain_raw[training_index]\n",
    "ytrain = ytrain_raw[training_index]\n",
    "xtest = xtest_raw[test_index]\n",
    "ytest = ytest_raw[test_index]\n",
    "xtrain = np.reshape(xtrain,(len(xtrain),784))\n",
    "xtest  = np.reshape(xtest ,(len(xtest ),784))\n",
    "\n",
    "pca = PCA(n_components=1)\n",
    "\n",
    "xtrain = pca.fit_transform(xtrain)\n",
    "xtest  = pca.transform(xtest)"
   ]
  },
  {
   "cell_type": "code",
   "execution_count": 3,
   "id": "60632232",
   "metadata": {},
   "outputs": [],
   "source": [
    "\n",
    "## scale training set to [0,1]\n",
    "\n",
    "vmax = max(np.max(xtrain),np.max(xtest))\n",
    "vmin = min(np.min(xtrain),np.min(xtest))\n",
    "xtrain = (xtrain-vmin)/(vmax-vmin)\n",
    "xtest = (xtest-vmin)/(vmax-vmin)\n"
   ]
  },
  {
   "cell_type": "code",
   "execution_count": 4,
   "id": "c94a5440",
   "metadata": {},
   "outputs": [],
   "source": [
    "\n",
    "xtrain3 = xtrain[ytrain ==3]\n",
    "xtrain4 = xtrain[ytrain ==4] "
   ]
  },
  {
   "cell_type": "code",
   "execution_count": 5,
   "id": "054b098a",
   "metadata": {},
   "outputs": [],
   "source": [
    "mean_3 = np.mean(xtrain3)\n",
    "mean_4 = np.mean(xtrain4)\n",
    "lam_3 = 1/mean_3\n",
    "lam_4 = 1/mean_4"
   ]
  },
  {
   "cell_type": "code",
   "execution_count": 6,
   "id": "d8cb16c7",
   "metadata": {},
   "outputs": [],
   "source": [
    "cov_3 = np.mean(xtrain3**2)\n",
    "cov_4 = np.mean(xtrain4**2)"
   ]
  },
  {
   "cell_type": "code",
   "execution_count": 7,
   "id": "62538b20",
   "metadata": {},
   "outputs": [],
   "source": [
    "prob_3 = (1/(cov_3*2*np.pi))**0.5*np.exp(-0.5*(xtest-mean_3)**2/cov_3)\n",
    "prob_4 = (1/(cov_4*2*np.pi))**0.5*np.exp(-0.5*(xtest-mean_4)**2/cov_4)"
   ]
  },
  {
   "cell_type": "code",
   "execution_count": 8,
   "id": "2f984457",
   "metadata": {},
   "outputs": [],
   "source": [
    "predict = np.zeros(len(ytest))\n",
    "predict[prob_3[:,0]>=prob_4[:,0]] = 3\n",
    "predict[prob_3[:,0]<prob_4[:,0]] = 4"
   ]
  },
  {
   "cell_type": "code",
   "execution_count": 9,
   "id": "4204e698",
   "metadata": {},
   "outputs": [
    {
     "name": "stdout",
     "output_type": "stream",
     "text": [
      "The accuracy of 2 parameter model is 87.651%\n"
     ]
    }
   ],
   "source": [
    "acc_med = sum(predict==ytest)/len(ytest)\n",
    "print(\"The accuracy of 2 parameter model is %.3f%%\"%(acc_med*100))"
   ]
  },
  {
   "cell_type": "code",
   "execution_count": 10,
   "id": "39ca1abb",
   "metadata": {},
   "outputs": [
    {
     "name": "stdout",
     "output_type": "stream",
     "text": [
      "The accuracy of 3 parameter model is 94.378%\n"
     ]
    }
   ],
   "source": [
    "prob_3 = 0.5*(1/(cov_3*2*np.pi))**0.5*np.exp(-0.5*(xtest-mean_3)**2/cov_3)*lam_3*np.exp(-lam_3*xtest)\n",
    "prob_4 = 0.5*(1/(cov_4*2*np.pi))**0.5*np.exp(-0.5*(xtest-mean_4)**2/cov_4)*lam_4*np.exp(-lam_4*xtest)\n",
    "predict = np.zeros(len(ytest))\n",
    "predict[prob_3[:,0]>=prob_4[:,0]] = 3\n",
    "predict[prob_3[:,0]<prob_4[:,0]] = 4\n",
    "acc_med = sum(predict==ytest)/len(ytest)\n",
    "print(\"The accuracy of 3 parameter model is %.3f%%\"%(acc_med*100))"
   ]
  },
  {
   "cell_type": "code",
   "execution_count": 11,
   "id": "e60c34b3",
   "metadata": {},
   "outputs": [
    {
     "name": "stdout",
     "output_type": "stream",
     "text": [
      "The accuracy of kernel based model is 97.741%\n"
     ]
    }
   ],
   "source": [
    "ss = 20\n",
    "prob_3 = np.mean(1/(ss*2*np.pi)**0.5*np.exp(-(xtrain3-xtest.T)**2/ss),axis = 0)\n",
    "prob_4 = np.mean(1/(ss*2*np.pi)**0.5*np.exp(-(xtrain4-xtest.T)**2/ss),axis = 0)\n",
    "predict = np.zeros(len(ytest))\n",
    "predict[prob_3>=prob_4] = 3\n",
    "predict[prob_3<prob_4] = 4\n",
    "acc_med = sum(predict==ytest)/len(ytest)\n",
    "print(\"The accuracy of kernel based model is %.3f%%\"%(acc_med*100))"
   ]
  },
  {
   "cell_type": "code",
   "execution_count": 12,
   "id": "257541de",
   "metadata": {},
   "outputs": [
    {
     "data": {
      "text/plain": [
       "0.06153576617373428"
      ]
     },
     "execution_count": 12,
     "metadata": {},
     "output_type": "execute_result"
    }
   ],
   "source": [
    "np.var(xtest)"
   ]
  },
  {
   "cell_type": "code",
   "execution_count": null,
   "id": "4a33046e",
   "metadata": {},
   "outputs": [],
   "source": []
  }
 ],
 "metadata": {
  "kernelspec": {
   "display_name": "Python 3",
   "language": "python",
   "name": "python3"
  },
  "language_info": {
   "codemirror_mode": {
    "name": "ipython",
    "version": 3
   },
   "file_extension": ".py",
   "mimetype": "text/x-python",
   "name": "python",
   "nbconvert_exporter": "python",
   "pygments_lexer": "ipython3",
   "version": "3.6.7"
  }
 },
 "nbformat": 4,
 "nbformat_minor": 5
}
