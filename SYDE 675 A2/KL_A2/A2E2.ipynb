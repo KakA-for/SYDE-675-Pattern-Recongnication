{
 "cells": [
  {
   "cell_type": "code",
   "execution_count": 9,
   "id": "e99efc5a",
   "metadata": {},
   "outputs": [],
   "source": [
    "import numpy as np\n",
    "import csv\n",
    "import matplotlib.pyplot as plt\n",
    "from sklearn.decomposition import PCA\n",
    "import tensorflow.keras.datasets.mnist as mnist\n",
    "from sklearn.metrics.pairwise import cosine_distances"
   ]
  },
  {
   "cell_type": "code",
   "execution_count": 10,
   "id": "3b5ce839",
   "metadata": {},
   "outputs": [],
   "source": [
    "(xtrain_raw,ytrain_raw),(xtest_raw,ytest_raw) = mnist.load_data()\n",
    "\n",
    "\n",
    "training_index = np.zeros(len(ytrain_raw))\n",
    "ytrain_count = np.zeros(10)\n",
    "pics_limit = 500\n",
    "for i in range(len(ytrain_raw)):\n",
    "    if ytrain_count[ytrain_raw[i]] < pics_limit: \n",
    "        training_index[i] = 1\n",
    "        ytrain_count[ytrain_raw[i]] +=1\n",
    "        \n",
    "\n",
    "training_index = training_index>0\n",
    "xtrain = xtrain_raw[training_index]\n",
    "ytrain = ytrain_raw[training_index]\n",
    "\n",
    "numfeatures = 784\n",
    "xtrain = np.reshape(xtrain,(len(xtrain),784))\n",
    "\n",
    "\n"
   ]
  },
  {
   "cell_type": "code",
   "execution_count": null,
   "id": "202b7a66",
   "metadata": {},
   "outputs": [],
   "source": []
  },
  {
   "cell_type": "markdown",
   "id": "596ce954",
   "metadata": {},
   "source": [
    "### K_means with cosine distance"
   ]
  },
  {
   "cell_type": "code",
   "execution_count": 11,
   "id": "ed879163",
   "metadata": {},
   "outputs": [],
   "source": [
    "num_ks = np.array([5,10,20,40,200])\n",
    "#num_ks = np.array([5,10])\n",
    "iterations = 100\n",
    "thr = 0.002\n",
    "cluster_cons = np.zeros(len(num_ks)) \n",
    "cluster_cons_ptr = 0\n",
    "np.random.seed(seed=115)"
   ]
  },
  {
   "cell_type": "code",
   "execution_count": 12,
   "id": "9bbe29b3",
   "metadata": {},
   "outputs": [
    {
     "name": "stdout",
     "output_type": "stream",
     "text": [
      "5\n",
      "10\n",
      "20\n",
      "40\n",
      "200\n"
     ]
    }
   ],
   "source": [
    "for kk in num_ks:\n",
    "    \n",
    "    #pick up k points as initial point\n",
    "    k_ind = np.random.choice(range(len(ytrain)), size =kk, replace=False)\n",
    "\n",
    "    k_loc = xtrain[k_ind,:]\n",
    "    \n",
    "    # initialize parameters\n",
    "    prev_label = np.zeros(len(ytrain))-1 # sotre previous label for \n",
    "    label = np.zeros(len(ytrain))\n",
    "    count = 0\n",
    "    err = 1\n",
    "    distances = np.zeros((len(ytrain),kk))\n",
    "    \n",
    "    # iterate untill the kernel converge\n",
    "    while (count<iterations) and (err > thr):\n",
    "\n",
    "        for i in range(kk):\n",
    "            #print(k_loc[i].reshape(1,-1))\n",
    "            distances[:,i] = cosine_distances(xtrain,k_loc[i].reshape(1,-1)).flatten()\n",
    "            \n",
    "        #get new label\n",
    "        label = np.argmin(distances,axis = 1)\n",
    "        #get error\n",
    "        err = np.sum(prev_label!=label)/len(label)\n",
    "        \n",
    "        # update kmean, prev label and count\n",
    "        \n",
    "        for i in range(kk):\n",
    "            if np.sum(label == i) !=0:\n",
    "                k_loc[i,:] = np.mean(xtrain[label == i].reshape(-1,numfeatures),axis = 0)\n",
    "        \n",
    "        prev_label = label\n",
    "        count+=1\n",
    "    # calculate the cluster consistency\n",
    "    print(kk)\n",
    "    qi = np.zeros(kk)\n",
    "    \n",
    "    for i in range(kk):\n",
    "        label_counts = np.zeros(10)\n",
    "        cluster_points = ytrain[label==i]\n",
    "        \n",
    "        for j in range(10):\n",
    "            label_counts[j] = np.sum(cluster_points == j)\n",
    "            \n",
    "        \n",
    "        qi[i] = np.max(label_counts)*1.0/(len(cluster_points)*1.0)\n",
    "    cluster_cons[cluster_cons_ptr] = np.mean(qi)\n",
    "    \n",
    "    cluster_cons_ptr+=1\n",
    "    "
   ]
  },
  {
   "cell_type": "code",
   "execution_count": 13,
   "id": "ca030001",
   "metadata": {},
   "outputs": [
    {
     "data": {
      "text/plain": [
       "array([0.39495438, 0.60525426, 0.76858357, 0.84167706, 0.87367876])"
      ]
     },
     "execution_count": 13,
     "metadata": {},
     "output_type": "execute_result"
    }
   ],
   "source": [
    "cluster_cons"
   ]
  },
  {
   "cell_type": "code",
   "execution_count": 14,
   "id": "4feea434",
   "metadata": {},
   "outputs": [
    {
     "data": {
      "image/png": "[encoded data removed]",
      "text/plain": [
       "<Figure size 432x288 with 1 Axes>"
      ]
     },
     "metadata": {
      "needs_background": "light"
     },
     "output_type": "display_data"
    }
   ],
   "source": [
    "fig, ax = plt.subplots()\n",
    "\n",
    "ax.stem(num_ks, cluster_cons)\n",
    "\n",
    "#ax.set(xlim=(0, 6),ylim=(95, 100))\n",
    "plt.title('The consistency of K-mean with different K values based on Cosine distance')\n",
    "plt.xlabel('K value')\n",
    "plt.ylabel('Consistency')\n",
    "plt.grid(axis = 'y')\n",
    "plt.show()"
   ]
  },
  {
   "cell_type": "code",
   "execution_count": 20,
   "id": "ccf76214",
   "metadata": {},
   "outputs": [],
   "source": [
    "shu = np.zeros(len(xtrain))\n",
    "for i in range(len(xtrain)):\n",
    "    ai = np.mean(np.sum((xtrain[label[i]==label]-xtrain[i])**2,axis = 1))\n",
    "    bi = np.mean(np.sum((xtrain[label[i]!=label]-xtrain[i])**2,axis = 1))\n",
    "    shu[i] = max(ai,bi)/(bi-ai)\n",
    "shu_mean = np.mean(shu)    "
   ]
  },
  {
   "cell_type": "code",
   "execution_count": 21,
   "id": "80a5956f",
   "metadata": {},
   "outputs": [
    {
     "name": "stdout",
     "output_type": "stream",
     "text": [
      "The average Silhouette Score is 19.696821463770544\n"
     ]
    }
   ],
   "source": [
    "print('The average Silhouette Score is '+ str(shu_mean)) "
   ]
  },
  {
   "cell_type": "markdown",
   "id": "16102ed3",
   "metadata": {},
   "source": [
    "### K_means with Mohalanobis distance"
   ]
  },
  {
   "cell_type": "code",
   "execution_count": 7,
   "id": "b87b8374",
   "metadata": {},
   "outputs": [],
   "source": [
    "cluster_cons = np.zeros(len(num_ks)) \n",
    "cluster_cons_ptr = 0\n",
    "iterations = 25\n",
    "np.random.seed(seed=115)\n",
    "\n"
   ]
  },
  {
   "cell_type": "code",
   "execution_count": 8,
   "id": "2f029409",
   "metadata": {},
   "outputs": [
    {
     "name": "stderr",
     "output_type": "stream",
     "text": [
      "C:\\Users\\KakA\\AppData\\Roaming\\Python\\Python36\\site-packages\\numpy\\lib\\function_base.py:380: RuntimeWarning: Mean of empty slice.\n",
      "  avg = a.mean(axis)\n",
      "C:\\Users\\KakA\\AppData\\Roaming\\Python\\Python36\\site-packages\\numpy\\core\\_methods.py:163: RuntimeWarning: invalid value encountered in true_divide\n",
      "  ret, rcount, out=ret, casting='unsafe', subok=False)\n",
      "c:\\users\\kaka\\appdata\\local\\programs\\python\\python36\\lib\\site-packages\\ipykernel_launcher.py:40: RuntimeWarning: Degrees of freedom <= 0 for slice\n",
      "C:\\Users\\KakA\\AppData\\Roaming\\Python\\Python36\\site-packages\\numpy\\lib\\function_base.py:2480: RuntimeWarning: divide by zero encountered in true_divide\n",
      "  c *= np.true_divide(1, fact)\n",
      "C:\\Users\\KakA\\AppData\\Roaming\\Python\\Python36\\site-packages\\numpy\\lib\\function_base.py:2480: RuntimeWarning: invalid value encountered in multiply\n",
      "  c *= np.true_divide(1, fact)\n",
      "C:\\Users\\KakA\\AppData\\Roaming\\Python\\Python36\\site-packages\\numpy\\linalg\\linalg.py:2159: RuntimeWarning: invalid value encountered in det\n",
      "  r = _umath_linalg.det(a, signature=signature)\n",
      "c:\\users\\kaka\\appdata\\local\\programs\\python\\python36\\lib\\site-packages\\ipykernel_launcher.py:42: RuntimeWarning: Degrees of freedom <= 0 for slice\n"
     ]
    }
   ],
   "source": [
    "for kk in num_ks:\n",
    "    \n",
    "    # set up default covaraince inverse matrix\n",
    "    inv_cov = np.zeros((kk,np.shape(xtrain)[1],np.shape(xtrain)[1]))\n",
    "    \n",
    "    initial_inv_cov = np.linalg.inv(np.cov(xtrain.T))\n",
    "    for i in range(kk):\n",
    "        inv_cov[i] =  initial_inv_cov\n",
    "    \n",
    "    #pick up k points as initial point\n",
    "    k_ind = np.random.choice(len(ytrain), size= kk,replace=False)\n",
    "    k_loc = xtrain[k_ind,:]\n",
    "    \n",
    "    \n",
    "    # initialize parameters\n",
    "    prev_label = np.zeros(len(ytrain))-1 # sotre previous label for \n",
    "    \n",
    "    \n",
    "    label = np.zeros(len(ytrain))\n",
    "    count = 0\n",
    "    err = 1\n",
    "    distances = np.zeros((len(ytrain),kk))\n",
    "    \n",
    "    \n",
    "    # iterate untill the kernel converge\n",
    "    while (count<iterations) and (err > thr):\n",
    "        for i in range(kk):\n",
    "            distances[:,i] = np.diagonal(np.dot(np.dot(xtrain-k_loc[i,:].reshape(1,-1),inv_cov[i]),(xtrain-k_loc[i,:].reshape(1,-1)).T))\n",
    "            \n",
    "        #get new label\n",
    "        label = np.argmin(distances,axis = 1)\n",
    "        #get error\n",
    "        err = np.sum(prev_label!=label)/len(label)\n",
    "        \n",
    "        # update kmean, prev label, covariance and count\n",
    "        \n",
    "        for i in range(kk):\n",
    "            if np.sum(label == i) >1:\n",
    "                k_loc[i,:] = np.mean(xtrain[label == i],axis = 0)\n",
    "            if np.linalg.det(np.cov(xtrain[label==i].T)) !=0:\n",
    "\n",
    "                inv_cov[i] = np.linalg.inv(np.cov(xtrain[label==i].T))\n",
    "        prev_label = label\n",
    "        count+=1\n",
    "    # calculate the cluster consistency\n",
    "    qi = np.zeros(kk)\n",
    "    for i in range(kk):\n",
    "        if np.sum(label==i) !=0:\n",
    "            \n",
    "            label_counts = np.zeros(10)\n",
    "            cluster_points = ytrain[label==i]\n",
    "        \n",
    "            for j in range(10): \n",
    "                label_counts[j] = np.sum(cluster_points == j)  \n",
    "            qi[i] = np.max(label_counts)*1.0/(len(cluster_points)*1.0)\n",
    "\n",
    "    cluster_cons[cluster_cons_ptr] = np.mean(qi)\n",
    "    \n",
    "    cluster_cons_ptr+=1"
   ]
  },
  {
   "cell_type": "code",
   "execution_count": 9,
   "id": "f4cfdb14",
   "metadata": {},
   "outputs": [
    {
     "data": {
      "text/plain": [
       "array([0.02  , 0.01  , 0.005 , 0.0025, 0.0005])"
      ]
     },
     "execution_count": 9,
     "metadata": {},
     "output_type": "execute_result"
    }
   ],
   "source": [
    "cluster_cons "
   ]
  },
  {
   "cell_type": "code",
   "execution_count": 10,
   "id": "a49a0950",
   "metadata": {},
   "outputs": [
    {
     "data": {
      "image/png": "[encoded data removed]",
      "text/plain": [
       "<Figure size 432x288 with 1 Axes>"
      ]
     },
     "metadata": {
      "needs_background": "light"
     },
     "output_type": "display_data"
    }
   ],
   "source": [
    "fig, ax = plt.subplots()\n",
    "\n",
    "ax.stem(num_ks, cluster_cons)\n",
    "\n",
    "#ax.set(xlim=(0, 6),ylim=(95, 100))\n",
    "plt.title('The consistency of K-mean with different K values based on Mohalanobis distance')\n",
    "plt.xlabel('K value')\n",
    "plt.ylabel('Consistency')\n",
    "plt.grid(axis = 'y')\n",
    "plt.show()"
   ]
  },
  {
   "cell_type": "code",
   "execution_count": 15,
   "id": "1d5556c6",
   "metadata": {},
   "outputs": [
    {
     "data": {
      "text/plain": [
       "1.1876344437017634e+99"
      ]
     },
     "execution_count": 15,
     "metadata": {},
     "output_type": "execute_result"
    }
   ],
   "source": []
  },
  {
   "cell_type": "code",
   "execution_count": 3,
   "id": "66810f59",
   "metadata": {},
   "outputs": [],
   "source": [
    "import numpy as np\n",
    "aa = np.array([[1,2],[3,4],[5,6]])\n"
   ]
  },
  {
   "cell_type": "code",
   "execution_count": 4,
   "id": "ae2c4957",
   "metadata": {},
   "outputs": [
    {
     "data": {
      "text/plain": [
       "array([[1, 2],\n",
       "       [3, 4],\n",
       "       [5, 6]])"
      ]
     },
     "execution_count": 4,
     "metadata": {},
     "output_type": "execute_result"
    }
   ],
   "source": [
    "aa"
   ]
  },
  {
   "cell_type": "code",
   "execution_count": 8,
   "id": "97d8a6e4",
   "metadata": {},
   "outputs": [
    {
     "data": {
      "text/plain": [
       "array([8, 0, 8], dtype=int32)"
      ]
     },
     "execution_count": 8,
     "metadata": {},
     "output_type": "execute_result"
    }
   ],
   "source": [
    "np.mean(np.sum((aa-aa[1])**2,axis = 1))"
   ]
  },
  {
   "cell_type": "code",
   "execution_count": null,
   "id": "05eaa0c2",
   "metadata": {},
   "outputs": [],
   "source": []
  }
 ],
 "metadata": {
  "kernelspec": {
   "display_name": "Python 3",
   "language": "python",
   "name": "python3"
  },
  "language_info": {
   "codemirror_mode": {
    "name": "ipython",
    "version": 3
   },
   "file_extension": ".py",
   "mimetype": "text/x-python",
   "name": "python",
   "nbconvert_exporter": "python",
   "pygments_lexer": "ipython3",
   "version": "3.6.7"
  }
 },
 "nbformat": 4,
 "nbformat_minor": 5
}
