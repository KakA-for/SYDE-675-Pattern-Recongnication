{
 "cells": [
  {
   "cell_type": "code",
   "execution_count": 1,
   "id": "e3ba2f09",
   "metadata": {},
   "outputs": [],
   "source": [
    "import torch\n",
    "import matplotlib.pyplot as plt\n",
    "import numpy as np\n",
    "\n",
    "import os\n",
    "\n",
    "from torchvision.transforms import Resize\n",
    "from torch.utils.data import DataLoader\n",
    "\n",
    "\n",
    "device = torch.device('cuda' if torch.cuda.is_available() else 'cpu')"
   ]
  },
  {
   "cell_type": "code",
   "execution_count": 2,
   "id": "f33ca604",
   "metadata": {},
   "outputs": [
    {
     "name": "stdout",
     "output_type": "stream",
     "text": [
      "cpu\n"
     ]
    }
   ],
   "source": [
    "print(device)"
   ]
  },
  {
   "cell_type": "code",
   "execution_count": 3,
   "id": "987590cc",
   "metadata": {},
   "outputs": [
    {
     "name": "stdout",
     "output_type": "stream",
     "text": [
      "['Alstonia Scholaris (P2)', 'Arjun (P1)', 'Bael (P4)', 'Basil (P8)', 'Chinar (P11)', 'Gauva (P3)', 'Jamun (P5)', 'Jatropha (P6)', 'Lemon (P10)', 'Mango (P0)', 'Pomegranate (P9)', 'Pongamia Pinnata (P7)']\n"
     ]
    }
   ],
   "source": [
    "path = os.getcwd() + '\\\\data\\\\plant_leaves'\n",
    "print(os.listdir(path))\n",
    "\n",
    "\n",
    "# # Load the Plant Village dataset from TensorFlow Datasets\n",
    "# plant_village_dataset, plant_village_info = tfds.load('plant_village', split='train', as_supervised=True, with_info=True)\n"
   ]
  },
  {
   "cell_type": "code",
   "execution_count": null,
   "id": "1f46650f",
   "metadata": {},
   "outputs": [],
   "source": [
    "count = 0\n",
    "\n",
    "for sub_folder in os.listdir(main_folder):\n",
    "    \n",
    "    sub_folder_path = os.path.join(main_folder, sub_folder)\n",
    "    \n",
    "    # Check if it's a directory\n",
    "    if os.path.isdir(sub_folder_path) :\n",
    "\n",
    "        # Iterate through each sub-subfolder\n",
    "        for sub_sub_folder in os.listdir(sub_folder_path) :\n",
    "\n",
    "            sub_sub_folder_path = os.path.join(sub_folder_path, sub_sub_folder)\n",
    "\n",
    "            # Check if it's a directory\n",
    "            if os.path.isdir(sub_sub_folder_path) :\n",
    "\n",
    "                # Iterate through each image file in the sub-subfolder\n",
    "                for image_file in os.listdir(sub_sub_folder_path):"
   ]
  },
  {
   "cell_type": "code",
   "execution_count": 4,
   "id": "b108ab00",
   "metadata": {},
   "outputs": [
    {
     "name": "stdout",
     "output_type": "stream",
     "text": [
      "x_train shape: (3601, 256, 256, 3)\n",
      "x_test shape: (901, 256, 256, 3)\n",
      "y_traint_shape (3601,)\n",
      "y_test shape: (901,)\n"
     ]
    }
   ],
   "source": [
    "from PIL import Image \n",
    "from sklearn.model_selection import train_test_split\n",
    "\n",
    "# Define the path to the main folder\n",
    "main_folder = path\n",
    "\n",
    "# Define the target size for resizing\n",
    "target_size = (256, 256)\n",
    "\n",
    "# Initialize lists to store resized images and their labels\n",
    "\n",
    "images = []\n",
    "labels = []\n",
    "\n",
    "# Iterate through each subfolder\n",
    "for sub_folder in os.listdir(main_folder):\n",
    "    \n",
    "    sub_folder_path = os.path.join(main_folder, sub_folder)\n",
    "    \n",
    "    # Check if it's a directory\n",
    "    if os.path.isdir(sub_folder_path) :\n",
    "\n",
    "        # Iterate through each sub-subfolder\n",
    "        for sub_sub_folder in os.listdir(sub_folder_path) :\n",
    "\n",
    "            sub_sub_folder_path = os.path.join(sub_folder_path, sub_sub_folder)\n",
    "\n",
    "            # Check if it's a directory\n",
    "            if os.path.isdir(sub_sub_folder_path) :\n",
    "\n",
    "                # Iterate through each image file in the sub-subfolder\n",
    "                for image_file in os.listdir(sub_sub_folder_path):\n",
    "\n",
    "                    image_path = os.path.join(sub_sub_folder_path, image_file)\n",
    "                    \n",
    "                    # Open the image\n",
    "                    with Image.open(image_path) as img:\n",
    "                        \n",
    "                        # Resize the image\n",
    "                        resized_img = img.resize(target_size)\n",
    "                    \n",
    "                        # Convert the image to a numpy array\n",
    "                        resized_img_array = np.array(resized_img)\n",
    "                    \n",
    "                        # Append the resized image array to the images list\n",
    "                        images.append(resized_img_array)\n",
    "                    \n",
    "                        # Append the label (subfolder name) to the labels list    \n",
    "                        labels.append(sub_sub_folder)\n",
    "    \n",
    "# Convert the lists to numpy arrays\n",
    "\n",
    "images = np.array(images)\n",
    "\n",
    "labels = np.array(labels)\n",
    "\n",
    "# Split the data into training and testing sets\n",
    "\n",
    "x_train, x_test, y_train, y_test = train_test_split(images, labels, test_size=0.2, random_state=42)\n",
    "\n",
    "# Print the shapes of the training and testing sets\n",
    "\n",
    "x_train = x_train.reshape((-1,3,256,256))\n",
    "\n",
    "x_test = x_test.reshape((-1,3,256,256))\n",
    "\n",
    "print (\"x_train shape:\", x_train.shape)\n",
    "print (\"x_test shape:\", x_test.shape)\n",
    "print ('y_train_shape',y_train.shape)\n",
    "print (\"y_test shape:\", y_test.shape)"
   ]
  },
  {
   "cell_type": "code",
   "execution_count": 12,
   "id": "ccc044db",
   "metadata": {},
   "outputs": [],
   "source": [
    "# from numpy import save\n",
    "# yy_train = np.zeros(len(y_train),dtype = int)\n",
    "# yy_test = np.zeros(len(y_test),dtype = int)\n",
    "# yy_train[y_train == 'diseased'] = 1\n",
    "# yy_test[y_test == 'diseased'] = 1\n",
    "# save('x_train.npy', x_train)\n",
    "# save('y_train.npy', yy_train)\n",
    "# save('x_test.npy', x_test)\n",
    "# save('y_test.npy', yy_test)\n",
    "\n",
    "# # yy_train[y_train == 'diseased'] = 1\n",
    "# # yy_test[y_test == 'diseased'] = 1"
   ]
  },
  {
   "cell_type": "code",
   "execution_count": 14,
   "id": "1c237498",
   "metadata": {},
   "outputs": [
    {
     "data": {
      "text/plain": [
       "array([0, 0, 1, 1, 1, 0, 1, 1, 0, 0, 0, 0, 0, 0, 1, 0, 0, 1, 0, 1, 1, 1,\n",
       "       0, 0, 1, 0, 0, 1, 0, 1, 1, 1, 1, 0, 1, 0, 0, 1, 1, 1, 1, 1, 0, 1,\n",
       "       1, 1, 0, 0, 0, 1, 0, 1, 0, 1, 1, 1, 1, 0, 0, 1, 0, 0, 0, 0, 1, 1,\n",
       "       0, 0, 0, 0, 1, 1, 0, 0, 0, 0, 1, 0, 0, 0, 1, 0, 0, 0, 0, 0, 0, 0,\n",
       "       1, 0, 0, 1, 1, 1, 0, 0, 0, 0, 1, 0, 0, 0, 1, 1, 0, 1, 0, 1, 0, 1,\n",
       "       1, 1, 0, 0, 1, 0, 0, 0, 1, 1, 1, 0, 1, 0, 0, 1, 0, 1, 0, 0, 0, 1,\n",
       "       0, 1, 1, 0, 1, 1, 1, 1, 1, 0, 0, 0, 0, 0, 0, 1, 1, 0, 1, 0, 1, 1,\n",
       "       1, 0, 1, 0, 1, 0, 0, 0, 1, 0, 0, 1, 1, 1, 1, 0, 1, 0, 1, 1, 0, 1,\n",
       "       0, 0, 1, 1, 1, 0, 0, 0, 0, 0, 1, 0, 0, 0, 1, 1, 0, 1, 1, 0, 0, 0,\n",
       "       0, 0, 1, 0, 1, 1, 0, 0, 0, 0, 1, 1, 0, 0, 0, 1, 1, 1, 0, 0, 1, 0,\n",
       "       0, 1, 1, 1, 1, 1, 1, 0, 1, 1, 1, 0, 1, 1, 0, 0, 1, 1, 1, 1, 0, 0,\n",
       "       1, 1, 1, 1, 0, 1, 0, 0, 0, 1, 0, 0, 0, 0, 0, 0, 0, 1, 0, 1, 0, 1,\n",
       "       0, 0, 1, 0, 0, 0, 0, 1, 1, 0, 0, 0, 0, 0, 1, 1, 1, 1, 1, 1, 0, 0,\n",
       "       1, 0, 1, 0, 1, 0, 0, 0, 0, 1, 1, 1, 1, 1, 0, 1, 0, 1, 1, 0, 0, 1,\n",
       "       0, 0, 0, 1, 1, 0, 0, 1, 0, 1, 0, 1, 1, 0, 0, 1, 1, 1, 1, 0, 0, 1,\n",
       "       1, 0, 0, 0, 0, 0, 0, 0, 0, 0, 1, 0, 1, 0, 1, 0, 1, 0, 0, 0, 1, 1,\n",
       "       1, 0, 1, 0, 1, 1, 0, 1, 1, 1, 1, 1, 1, 1, 0, 0, 0, 0, 0, 1, 1, 0,\n",
       "       1, 1, 1, 1, 1, 1, 0, 1, 0, 0, 0, 0, 1, 0, 1, 1, 0, 1, 1, 1, 1, 1,\n",
       "       1, 0, 1, 1, 1, 1, 0, 1, 0, 0, 0, 1, 0, 0, 1, 1, 1, 1, 0, 0, 1, 0,\n",
       "       0, 1, 0, 1, 0, 1, 0, 0, 0, 0, 0, 1, 0, 1, 1, 0, 0, 0, 0, 1, 1, 0,\n",
       "       1, 1, 1, 1, 1, 1, 1, 1, 0, 0, 0, 0, 1, 0, 0, 0, 1, 0, 0, 0, 1, 0,\n",
       "       1, 0, 1, 1, 0, 0, 1, 0, 0, 1, 1, 1, 1, 1, 1, 0, 1, 1, 0, 1, 0, 1,\n",
       "       0, 1, 0, 1, 1, 1, 0, 1, 1, 1, 1, 1, 0, 1, 0, 0, 0, 0, 0, 1, 0, 1,\n",
       "       0, 0, 0, 0, 1, 1, 0, 1, 1, 0, 1, 0, 1, 1, 1, 0, 1, 0, 0, 1, 1, 0,\n",
       "       1, 0, 1, 1, 0, 0, 0, 1, 0, 1, 1, 0, 1, 1, 1, 1, 0, 1, 0, 0, 0, 0,\n",
       "       1, 0, 0, 0, 0, 1, 1, 0, 0, 1, 1, 0, 0, 0, 1, 0, 1, 0, 1, 0, 0, 1,\n",
       "       0, 1, 0, 1, 0, 0, 0, 1, 1, 1, 0, 0, 1, 0, 0, 1, 0, 1, 1, 1, 1, 1,\n",
       "       0, 1, 0, 1, 0, 1, 0, 0, 1, 0, 1, 1, 1, 0, 1, 0, 0, 0, 1, 0, 0, 0,\n",
       "       1, 0, 0, 0, 0, 0, 0, 1, 1, 1, 1, 0, 0, 0, 0, 0, 1, 0, 0, 1, 0, 1,\n",
       "       1, 0, 0, 1, 0, 0, 0, 1, 0, 1, 1, 1, 1, 0, 0, 0, 1, 0, 1, 1, 0, 0,\n",
       "       0, 0, 0, 0, 1, 0, 1, 0, 0, 0, 0, 0, 0, 1, 0, 0, 0, 0, 0, 0, 0, 1,\n",
       "       0, 1, 0, 1, 1, 1, 1, 1, 0, 1, 0, 1, 1, 1, 0, 1, 1, 0, 1, 0, 1, 0,\n",
       "       1, 0, 1, 1, 0, 0, 0, 0, 1, 1, 0, 1, 0, 1, 0, 1, 0, 1, 0, 0, 0, 1,\n",
       "       0, 0, 0, 1, 1, 0, 1, 0, 0, 0, 1, 1, 1, 1, 1, 1, 1, 0, 1, 1, 1, 0,\n",
       "       1, 0, 1, 1, 1, 1, 1, 1, 0, 1, 1, 1, 1, 1, 1, 0, 0, 0, 0, 0, 1, 0,\n",
       "       1, 0, 0, 1, 1, 0, 1, 0, 0, 0, 0, 0, 1, 0, 1, 1, 1, 0, 1, 0, 0, 0,\n",
       "       0, 0, 0, 0, 0, 1, 0, 1, 1, 0, 0, 0, 1, 0, 1, 0, 0, 0, 1, 0, 0, 0,\n",
       "       0, 1, 1, 1, 0, 0, 1, 1, 0, 0, 1, 0, 0, 0, 1, 1, 0, 0, 0, 0, 0, 1,\n",
       "       1, 1, 0, 0, 1, 1, 0, 0, 1, 0, 1, 1, 1, 0, 0, 0, 1, 0, 0, 0, 1, 1,\n",
       "       1, 0, 0, 0, 0, 0, 0, 1, 1, 1, 0, 1, 0, 0, 0, 1, 1, 0, 1, 1, 0, 0,\n",
       "       0, 1, 0, 1, 1, 0, 1, 1, 1, 0, 0, 1, 1, 0, 1, 1, 0, 1, 1, 1, 1])"
      ]
     },
     "execution_count": 14,
     "metadata": {},
     "output_type": "execute_result"
    }
   ],
   "source": [
    "yy_test"
   ]
  },
  {
   "cell_type": "code",
   "execution_count": 1,
   "id": "704db7c5",
   "metadata": {},
   "outputs": [],
   "source": [
    "aa = 1\n"
   ]
  },
  {
   "cell_type": "code",
   "execution_count": 2,
   "id": "70f428e2",
   "metadata": {},
   "outputs": [],
   "source": [
    "from numpy import save\n",
    "save('data/try.npy', aa)"
   ]
  },
  {
   "cell_type": "code",
   "execution_count": null,
   "id": "709e8cff",
   "metadata": {},
   "outputs": [],
   "source": []
  }
 ],
 "metadata": {
  "kernelspec": {
   "display_name": "Python 3",
   "language": "python",
   "name": "python3"
  },
  "language_info": {
   "codemirror_mode": {
    "name": "ipython",
    "version": 3
   },
   "file_extension": ".py",
   "mimetype": "text/x-python",
   "name": "python",
   "nbconvert_exporter": "python",
   "pygments_lexer": "ipython3",
   "version": "3.6.7"
  }
 },
 "nbformat": 4,
 "nbformat_minor": 5
}
